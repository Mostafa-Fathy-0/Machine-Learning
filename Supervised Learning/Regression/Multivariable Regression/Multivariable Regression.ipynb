{
 "cells": [
  {
   "attachments": {},
   "cell_type": "markdown",
   "id": "1188866a",
   "metadata": {},
   "source": [
    "## Important formuals :"
   ]
  },
  {
   "attachments": {},
   "cell_type": "markdown",
   "id": "25d8b3e1",
   "metadata": {},
   "source": [
    "### - regression algorithm ---> Y = bx +  α\n",
    "### - hypothesis ---> hθ(x) = θ0 + θ1x\n",
    "### - cost function ---> J(θ0,θ1) = J(θ0 + θ1) = 1/2m m∑n=1(hθ(xi)-yi)^2\n",
    "### - gradient descent :\n",
    "### θ0 := θ0 - α 1/m m∑n=1(hθ(xi)-yi)x0\n",
    "### θ1 := θ1 - α 1/m m∑n=1(hθ(xi)-yi)xi\n",
    "### - data rescaling ---> x = [(x - mean)/range] \n",
    "#### mean = (sum of values / num of them) , range = (max - min)\n",
    "### - normal equation ---> θ = (XT * X)^-1 * (XT) * (y)"
   ]
  },
  {
   "attachments": {},
   "cell_type": "markdown",
   "id": "eec2c81f",
   "metadata": {},
   "source": [
    "## import libraries :"
   ]
  },
  {
   "cell_type": "code",
   "execution_count": 1,
   "id": "b5919dc1",
   "metadata": {},
   "outputs": [],
   "source": [
    "# use numpy to perform a mathematical operations on arrays.\n",
    "import numpy as np\n",
    "# use pandas to deal with dataset.\n",
    "import pandas as pd\n",
    "# use matplotlib to create static, animated, and interactive visualizations.\n",
    "import matplotlib.pyplot as plt"
   ]
  },
  {
   "attachments": {},
   "cell_type": "markdown",
   "id": "28812487",
   "metadata": {},
   "source": [
    "# read data"
   ]
  },
  {
   "cell_type": "code",
   "execution_count": 6,
   "id": "4e748f62",
   "metadata": {
    "scrolled": true
   },
   "outputs": [],
   "source": [
    "# specify the specific location of dataset.\n",
    "path = 'E:\\\\Mostafa\\\\Study Materials\\\\Machin Learning Courses\\\\Hesham Asem Courses\\\\Practice\\\\Supervised Learning\\\\Regression\\\\Multivariable Regression\\\\data.xlsx'\n",
    "# read data from file in the specific location and add no headers.\n",
    "# add names for columns Size for first column , Bedrooms for the second column and Price for third column.\n",
    "df = pd.read_excel(path, header=None, names=['Size', 'Bedrooms', 'Price'])"
   ]
  },
  {
   "attachments": {},
   "cell_type": "markdown",
   "id": "825d556a",
   "metadata": {},
   "source": [
    "# show data"
   ]
  },
  {
   "cell_type": "code",
   "execution_count": 7,
   "id": "9997c541",
   "metadata": {},
   "outputs": [
    {
     "name": "stdout",
     "output_type": "stream",
     "text": [
      "data : \n",
      "    Size  Bedrooms   Price\n",
      "0  2104         3  399900\n",
      "1  1600         3  329900\n",
      "2  2400         3  369000\n",
      "3  1416         2  232000\n",
      "4  3000         4  539900\n",
      "5  1985         4  299900\n",
      "6  1534         3  314900\n",
      "7  1427         3  198999\n",
      "8  1380         3  212000\n",
      "9  1494         3  242500\n",
      "---------------------------------------\n",
      "describtion of data : \n",
      "               Size   Bedrooms          Price\n",
      "count    47.000000  47.000000      47.000000\n",
      "mean   2000.680851   3.170213  340412.659574\n",
      "std     794.702354   0.760982  125039.899586\n",
      "min     852.000000   1.000000  169900.000000\n",
      "25%    1432.000000   3.000000  249900.000000\n",
      "50%    1888.000000   3.000000  299900.000000\n",
      "75%    2269.000000   4.000000  384450.000000\n",
      "max    4478.000000   5.000000  699900.000000\n",
      "---------------------------------------\n"
     ]
    }
   ],
   "source": [
    "# print first 10 row of data.\n",
    "print('data : \\n' ,df.head(10) )\n",
    "print('---------------------------------------')\n",
    "# use describe method to see all important information about data like mean , std , min , etc.\n",
    "print('describtion of data : \\n',df.describe())\n",
    "print('---------------------------------------')"
   ]
  },
  {
   "attachments": {},
   "cell_type": "markdown",
   "id": "295f4ec9",
   "metadata": {},
   "source": [
    "# data rescaling"
   ]
  },
  {
   "cell_type": "code",
   "execution_count": 9,
   "id": "f0fc0f22",
   "metadata": {},
   "outputs": [
    {
     "name": "stdout",
     "output_type": "stream",
     "text": [
      "data after normalization : \n",
      "       Size  Bedrooms     Price\n",
      "0  0.130010 -0.223675  0.475747\n",
      "1 -0.504190 -0.223675 -0.084074\n",
      "2  0.502476 -0.223675  0.228626\n",
      "3 -0.735723 -1.537767 -0.867025\n",
      "4  1.257476  1.090417  1.595389\n",
      "5 -0.019732  1.090417 -0.323998\n",
      "6 -0.587240 -0.223675 -0.204036\n",
      "7 -0.721881 -0.223675 -1.130948\n",
      "8 -0.781023 -0.223675 -1.026973\n",
      "9 -0.637573 -0.223675 -0.783051\n"
     ]
    }
   ],
   "source": [
    "# use rescaling formula tp make all values be in range (-1,1)\n",
    "# rescaling_df = [(df - mean)/range] or rescaling_df = [(df - mean ) / std] , std ---> standard divisaion\n",
    "df = (df - df.mean()) / df.std()\n",
    "print('data after normalization : ')\n",
    "# print first 10 rows of data after rescaling\n",
    "print(df.head(10) )"
   ]
  },
  {
   "attachments": {},
   "cell_type": "markdown",
   "id": "1ed92629",
   "metadata": {},
   "source": [
    "# adding a new column called ones before the data :"
   ]
  },
  {
   "cell_type": "code",
   "execution_count": 10,
   "id": "2a41ad67",
   "metadata": {},
   "outputs": [
    {
     "name": "stdout",
     "output_type": "stream",
     "text": [
      "Data after adding column \"Ones\" : \n",
      "    Ones      Size  Bedrooms     Price\n",
      "0     1  0.130010 -0.223675  0.475747\n",
      "1     1 -0.504190 -0.223675 -0.084074\n",
      "2     1  0.502476 -0.223675  0.228626\n",
      "3     1 -0.735723 -1.537767 -0.867025\n",
      "4     1  1.257476  1.090417  1.595389\n",
      "5     1 -0.019732  1.090417 -0.323998\n",
      "6     1 -0.587240 -0.223675 -0.204036\n",
      "7     1 -0.721881 -0.223675 -1.130948\n",
      "8     1 -0.781023 -0.223675 -1.026973\n",
      "9     1 -0.637573 -0.223675 -0.783051\n"
     ]
    }
   ],
   "source": [
    "# add new column to represent X0 with value 1 for all rows.\n",
    "# add it in index 0 to be first column in dataset\n",
    "df.insert(0, 'Ones', 1)\n",
    "# print first 10 row of new data.\n",
    "print('Data after adding column \"Ones\" : \\n' ,df.head(10) )"
   ]
  },
  {
   "attachments": {},
   "cell_type": "markdown",
   "id": "f0bd6998",
   "metadata": {},
   "source": [
    "# separate X (training data) from y (target variable) :"
   ]
  },
  {
   "cell_type": "code",
   "execution_count": 12,
   "id": "d2aca34e",
   "metadata": {},
   "outputs": [
    {
     "name": "stdout",
     "output_type": "stream",
     "text": [
      "X data : \n",
      "    Ones      Size  Bedrooms\n",
      "0     1  0.130010 -0.223675\n",
      "1     1 -0.504190 -0.223675\n",
      "2     1  0.502476 -0.223675\n",
      "3     1 -0.735723 -1.537767\n",
      "4     1  1.257476  1.090417\n",
      "5     1 -0.019732  1.090417\n",
      "6     1 -0.587240 -0.223675\n",
      "7     1 -0.721881 -0.223675\n",
      "8     1 -0.781023 -0.223675\n",
      "9     1 -0.637573 -0.223675\n",
      "---------------------------------------\n",
      "y data : \n",
      "       Price\n",
      "0  0.475747\n",
      "1 -0.084074\n",
      "2  0.228626\n",
      "3 -0.867025\n",
      "4  1.595389\n",
      "5 -0.323998\n",
      "6 -0.204036\n",
      "7 -1.130948\n",
      "8 -1.026973\n",
      "9 -0.783051\n"
     ]
    }
   ],
   "source": [
    "# shape method return 'number of rows' X 'number of columns' ---> (47, 4).\n",
    "# we use data.shape[1] to select only columns ---> (4) ---> ['Ones','Size','Bedrooms','Price'].\n",
    "cols = df.shape[1]\n",
    "# X represent taining data that will used in training to predict new targets.\n",
    "# use ( : , ) to select all rows of data.\n",
    "# use ( , 0 : cols-1) to select columns from first to penultimate one ---> [Ones : Bedrooms]. \n",
    "X = df.iloc[ : , 0 : cols-1 ]\n",
    "# y represnt target variable that produced based on training data.\n",
    "# use ( : , ) to select all rows of data.\n",
    "# use ( , cols-1 : cols) to select last column only ---> [Price].\n",
    "y = df.iloc[ : , cols-1 : cols ]\n",
    "# print first 10 row of X values.\n",
    "print('X data : \\n' ,X.head(10) )\n",
    "print('---------------------------------------')\n",
    "# print first 10 row of y values.\n",
    "print('y data : \\n' ,y.head(10) )"
   ]
  },
  {
   "attachments": {},
   "cell_type": "markdown",
   "id": "31449bc2",
   "metadata": {},
   "source": [
    "# convert from data frames to numpy matrices and initialize theta"
   ]
  },
  {
   "cell_type": "code",
   "execution_count": 13,
   "id": "ee707c30",
   "metadata": {},
   "outputs": [
    {
     "name": "stdout",
     "output_type": "stream",
     "text": [
      "first 10 values of X : \n",
      " [[ 1.          0.13000987 -0.22367519]\n",
      " [ 1.         -0.50418984 -0.22367519]\n",
      " [ 1.          0.50247636 -0.22367519]\n",
      " [ 1.         -0.73572306 -1.53776691]\n",
      " [ 1.          1.25747602  1.09041654]\n",
      " [ 1.         -0.01973173  1.09041654]\n",
      " [ 1.         -0.5872398  -0.22367519]\n",
      " [ 1.         -0.7218814  -0.22367519]\n",
      " [ 1.         -0.78102304 -0.22367519]\n",
      " [ 1.         -0.63757311 -0.22367519]]\n",
      "---------------------------------------\n",
      "theta :\n",
      " [[0 0 0]]\n",
      "---------------------------------------\n",
      "first 10 values of y : \n",
      " [[ 0.47574687]\n",
      " [-0.08407444]\n",
      " [ 0.22862575]\n",
      " [-0.86702453]\n",
      " [ 1.59538948]\n",
      " [-0.32399786]\n",
      " [-0.20403615]\n",
      " [-1.13094828]\n",
      " [-1.02697347]\n",
      " [-0.78305133]]\n"
     ]
    }
   ],
   "source": [
    "# convert X to matrix with shape (47,3) to be prepared to work with it.\n",
    "X = np.matrix(X.values)\n",
    "# convert y to matrix with shape (47,1) to be prepared to work with it.\n",
    "y = np.matrix(y.values)\n",
    "# craete new matrix with shape (1,3) called theta with only 3 values.\n",
    "# because we have only 3 variables so theta represented by 3 columns.\n",
    "theta = np.matrix(np.array([0,0,0]))\n",
    "# print first 10 values of 'X' matrix.\n",
    "print('first 10 values of X : \\n',X[0:10])\n",
    "print('---------------------------------------')\n",
    "# print values of 'theta' matrix.\n",
    "print('theta :\\n',theta)\n",
    "print('---------------------------------------')\n",
    "# print first 10 values of 'y' matrix.\n",
    "print('first 10 values of y : \\n',y[0:10])"
   ]
  },
  {
   "attachments": {},
   "cell_type": "markdown",
   "id": "9c0eb3c5",
   "metadata": {},
   "source": [
    "# cost function"
   ]
  },
  {
   "cell_type": "code",
   "execution_count": 17,
   "id": "51ccdcd1",
   "metadata": {},
   "outputs": [
    {
     "name": "stdout",
     "output_type": "stream",
     "text": [
      "Cost-Function =  0.48936170212765967\n"
     ]
    }
   ],
   "source": [
    "# use this formula to calculate cost-function.\n",
    "# hθ(x) = θ0 + θ1x.\n",
    "# J(θ0 + θ1) = 1/2m m∑n=1(hθ(xi)-yi)^2.\n",
    "# use theta.T to calculate hθ(x).\n",
    "# to multiply 2 matrix it's dimansions must be under this formula A'col' = B'row'.\n",
    "# so number of columns of 'X' must equal to number of rows of 'theta'.\n",
    "# so we must transpose 'theta' to fit the multiplication with 'X'.\n",
    "# x = (47,3) , theta.T = (3,1).\n",
    "# new matrix shape will equal (47,1).\n",
    "def computeCost(X, y, theta):\n",
    "    # apply summation part of formula ---> m∑n=1(hθ(xi)-yi)^2.\n",
    "    z = np.power(((X * theta.T) - y), 2)\n",
    "    # calculate number of all data points in this dataset.\n",
    "    m = len(X)\n",
    "    # apply the other part of formula division by 2m which refer to the number of all data points.\n",
    "    return np.sum(z) / (2 * m)\n",
    "# print the value of cost function.\n",
    "print('Cost-Function = ' , computeCost(X, y, theta))"
   ]
  },
  {
   "attachments": {},
   "cell_type": "markdown",
   "id": "a03c0103",
   "metadata": {},
   "source": [
    "# Gradient Descent function :"
   ]
  },
  {
   "cell_type": "code",
   "execution_count": 37,
   "id": "c76f534c",
   "metadata": {},
   "outputs": [],
   "source": [
    "# use this formula to calculate gradient descent :\n",
    "        # θ0 := θ0 - α 1/m m∑n=1(hθ(xi)-yi)\n",
    "        # θ1 := θ1 - α 1/m m∑n=1((hθ(xi)-yi)xi)\n",
    "def gradientDescent(X, y, theta, alpha, iters):\n",
    "    # create a numpy array and convet it to matrix based on theta shape ---> (1,3) ---> [0. 0. 0.].\n",
    "    # the new value will be a matrix ---> [[0. 0. 0.]].\n",
    "    temp = np.matrix(np.zeros(theta.shape))\n",
    "    # get number of parameters by convert number of columns in theta to integar.\n",
    "    # calculate and assign number of parameters 'columns' in the theta array to 'parameters' variable.\n",
    "    parameters = int(theta.ravel().shape[1])\n",
    "    # create numpy array of zeros based on number of iterations.\n",
    "    # it will represent array of 1000 zero \n",
    "    cost = np.zeros(iters)\n",
    "    for i in range(iters):\n",
    "        # calculate error by apply this part of formula m∑n=1(hθ(x^i)-y^i).\n",
    "        error = (X * theta.T) - y\n",
    "        for j in range(parameters):\n",
    "            # apply the other part of formula by multiply by 'xi'\n",
    "            term = np.multiply(error, X[:,j])\n",
    "            # apply complete formula θ(0,1) - α 1/m m∑n=1((hθ(xi)-yi)xi)\n",
    "            # temp[0,j] refer to new theta --->  θ(0,1) :=  θ(0,1) - α 1/m m∑n=1(hθ(xi)-yi \n",
    "            temp[0,j] = theta[0,j] - ((alpha / len(X)) * np.sum(term))\n",
    "            # assign value of temp to theta to save new values of theta\n",
    "            theta = temp\n",
    "            # assign values of cost to cost function\n",
    "            cost[i] = computeCost(X, y, theta)\n",
    "    return theta, cost"
   ]
  },
  {
   "attachments": {},
   "cell_type": "markdown",
   "id": "e0c21f4f",
   "metadata": {},
   "source": [
    "# initialize variables for learning rate and iterations :"
   ]
  },
  {
   "cell_type": "code",
   "execution_count": 29,
   "id": "9756140d",
   "metadata": {},
   "outputs": [],
   "source": [
    "# learning rate.\n",
    "# when it being small that means it will be slow but more accurated.\n",
    "# when it being large that means it will be fast but less accurated.\n",
    "alpha = 0.01\n",
    "# number of iterations.\n",
    "# when this number being large this mean that will be low cost.\n",
    "# when this number being small this mean that will be high cost.\n",
    "iters = 1000"
   ]
  },
  {
   "attachments": {},
   "cell_type": "markdown",
   "id": "e3678dec",
   "metadata": {},
   "source": [
    "# perform gradient descent to \"fit\" the model parameters :"
   ]
  },
  {
   "cell_type": "code",
   "execution_count": 30,
   "id": "a098f62e",
   "metadata": {},
   "outputs": [],
   "source": [
    "# get values of hθ_(x) and theta from gradientDescent() method. \n",
    "hθ_x, cost = gradientDescent(X, y, theta, alpha, iters)"
   ]
  },
  {
   "attachments": {},
   "cell_type": "markdown",
   "id": "6e5e75a9",
   "metadata": {},
   "source": [
    "# get the cost (error) of the model"
   ]
  },
  {
   "cell_type": "code",
   "execution_count": 31,
   "id": "499beab8",
   "metadata": {},
   "outputs": [
    {
     "name": "stdout",
     "output_type": "stream",
     "text": [
      "hθ(x) =  [[-1.10868761e-16  8.78503652e-01 -4.69166570e-02]]\n",
      "---------------------------------------\n",
      "cost : \n",
      " [0.4805491  0.47198588 0.46366462 0.45557814 0.44771948 0.44008189\n",
      " 0.43265881 0.42544389 0.41843096 0.41161404 0.40498735 0.39854524\n",
      " 0.39228228 0.38619317 0.38027278 0.37451612 0.36891839 0.36347488\n",
      " 0.35818107 0.35303254]\n",
      "---------------------------------------\n",
      "cost_function =  0.13070336960771892\n"
     ]
    }
   ],
   "source": [
    "# print values of hθ_(x) ---> values of (θ0 , θ1).\n",
    "print('hθ(x) = ' , hθ_x)\n",
    "print('---------------------------------------')\n",
    "# print cost of first 20 values.\n",
    "print('cost : \\n' , cost[0:20])\n",
    "print('---------------------------------------')\n",
    "# print the value of cost function\n",
    "print('cost_function = ' , computeCost(X, y, hθ_x))"
   ]
  },
  {
   "attachments": {},
   "cell_type": "markdown",
   "id": "78910fb4",
   "metadata": {},
   "source": [
    "# get best fit line for Size vs. Price\n"
   ]
  },
  {
   "cell_type": "code",
   "execution_count": 32,
   "id": "433d4e5b",
   "metadata": {},
   "outputs": [
    {
     "name": "stdout",
     "output_type": "stream",
     "text": [
      "x : \n",
      "  [-1.44542274 -1.39933471 -1.35324669 -1.30715866 -1.26107063 -1.21498261\n",
      " -1.16889458 -1.12280656 -1.07671853 -1.0306305  -0.98454248 -0.93845445\n",
      " -0.89236643 -0.8462784  -0.80019038 -0.75410235 -0.70801432 -0.6619263\n",
      " -0.61583827 -0.56975025 -0.52366222 -0.47757419 -0.43148617 -0.38539814\n",
      " -0.33931012 -0.29322209 -0.24713406 -0.20104604 -0.15495801 -0.10886999\n",
      " -0.06278196 -0.01669394  0.02939409  0.07548212  0.12157014  0.16765817\n",
      "  0.21374619  0.25983422  0.30592225  0.35201027  0.3980983   0.44418632\n",
      "  0.49027435  0.53636238  0.5824504   0.62853843  0.67462645  0.72071448\n",
      "  0.7668025   0.81289053  0.85897856  0.90506658  0.95115461  0.99724263\n",
      "  1.04333066  1.08941869  1.13550671  1.18159474  1.22768276  1.27377079\n",
      "  1.31985881  1.36594684  1.41203487  1.45812289  1.50421092  1.55029894\n",
      "  1.59638697  1.642475    1.68856302  1.73465105  1.78073907  1.8268271\n",
      "  1.87291513  1.91900315  1.96509118  2.0111792   2.05726723  2.10335525\n",
      "  2.14944328  2.19553131  2.24161933  2.28770736  2.33379538  2.37988341\n",
      "  2.42597144  2.47205946  2.51814749  2.56423551  2.61032354  2.65641157\n",
      "  2.70249959  2.74858762  2.79467564  2.84076367  2.88685169  2.93293972\n",
      "  2.97902775  3.02511577  3.0712038   3.11729182]\n",
      "---------------------------------------\n",
      "hθ(x) : \n",
      "  [[-1.10868761e-16  8.78503652e-01 -4.69166570e-02]]\n",
      "---------------------------------------\n",
      "f : \n",
      "  [-1.26980915 -1.22932065 -1.18883216 -1.14834366 -1.10785516 -1.06736666\n",
      " -1.02687816 -0.98638966 -0.94590116 -0.90541266 -0.86492416 -0.82443566\n",
      " -0.78394717 -0.74345867 -0.70297017 -0.66248167 -0.62199317 -0.58150467\n",
      " -0.54101617 -0.50052767 -0.46003917 -0.41955067 -0.37906217 -0.33857368\n",
      " -0.29808518 -0.25759668 -0.21710818 -0.17661968 -0.13613118 -0.09564268\n",
      " -0.05515418 -0.01466568  0.02582282  0.06631131  0.10679981  0.14728831\n",
      "  0.18777681  0.22826531  0.26875381  0.30924231  0.34973081  0.39021931\n",
      "  0.43070781  0.47119631  0.5116848   0.5521733   0.5926618   0.6331503\n",
      "  0.6736388   0.7141273   0.7546158   0.7951043   0.8355928   0.8760813\n",
      "  0.91656979  0.95705829  0.99754679  1.03803529  1.07852379  1.11901229\n",
      "  1.15950079  1.19998929  1.24047779  1.28096629  1.32145479  1.36194328\n",
      "  1.40243178  1.44292028  1.48340878  1.52389728  1.56438578  1.60487428\n",
      "  1.64536278  1.68585128  1.72633978  1.76682828  1.80731677  1.84780527\n",
      "  1.88829377  1.92878227  1.96927077  2.00975927  2.05024777  2.09073627\n",
      "  2.13122477  2.17171327  2.21220176  2.25269026  2.29317876  2.33366726\n",
      "  2.37415576  2.41464426  2.45513276  2.49562126  2.53610976  2.57659826\n",
      "  2.61708676  2.65757525  2.69806375  2.73855225]\n"
     ]
    }
   ],
   "source": [
    "# sperate values between min and max to 100 part.\n",
    "x = np.linspace(df.Size.min(), df.Size.max(), 100)\n",
    "# print the 100 values between min and max.\n",
    "print('x : \\n ',x)\n",
    "print('---------------------------------------')\n",
    "print('hθ(x) : \\n ',hθ_x)\n",
    "print('---------------------------------------')\n",
    "# apply this formula hθ(x) = θ0 + θ1x.\n",
    "f = hθ_x[0, 0] + (hθ_x[0, 1] * x)\n",
    "print('f : \\n ',f)"
   ]
  },
  {
   "attachments": {},
   "cell_type": "markdown",
   "id": "3bb97aa2",
   "metadata": {},
   "source": [
    "# draw the line for Size vs. Price"
   ]
  },
  {
   "cell_type": "code",
   "execution_count": 33,
   "id": "a4858abb",
   "metadata": {},
   "outputs": [
    {
     "data": {
      "image/png": "[encoded data removed]",
      "text/plain": [
       "<Figure size 500x500 with 1 Axes>"
      ]
     },
     "metadata": {},
     "output_type": "display_data"
    }
   ],
   "source": [
    "# make subplots to draw more plots in one graph.\n",
    "fig, ax = plt.subplots(figsize=(5,5))\n",
    "# draw the linear regression line.\n",
    "ax.plot(x, f, 'r', label='Prediction')\n",
    "# draw the distribution of data.\n",
    "ax.scatter(df.Size, df.Price, label='Training Data')\n",
    "# plot hint of all graphs types in the upper left side\n",
    "ax.legend(loc=2)\n",
    "# set name of x axis to Size.\n",
    "ax.set_xlabel('Size')\n",
    "# set name of y axis to Price.\n",
    "ax.set_ylabel('Price')\n",
    "# set the title of graph to be Predicted Size vs. Price.\n",
    "ax.set_title('Size vs. Price')\n",
    "# show graph on screen.\n",
    "plt.show()"
   ]
  },
  {
   "attachments": {},
   "cell_type": "markdown",
   "id": "94b4d86c",
   "metadata": {},
   "source": [
    "# get best fit line for Bedrooms vs. Price"
   ]
  },
  {
   "cell_type": "code",
   "execution_count": 34,
   "id": "d72e27a9",
   "metadata": {},
   "outputs": [
    {
     "name": "stdout",
     "output_type": "stream",
     "text": [
      "x : \n",
      "  [-2.85185864 -2.79876402 -2.74566941 -2.69257479 -2.63948018 -2.58638556\n",
      " -2.53329095 -2.48019633 -2.42710172 -2.3740071  -2.32091249 -2.26781787\n",
      " -2.21472325 -2.16162864 -2.10853402 -2.05543941 -2.00234479 -1.94925018\n",
      " -1.89615556 -1.84306095 -1.78996633 -1.73687172 -1.6837771  -1.63068249\n",
      " -1.57758787 -1.52449326 -1.47139864 -1.41830403 -1.36520941 -1.3121148\n",
      " -1.25902018 -1.20592557 -1.15283095 -1.09973634 -1.04664172 -0.99354711\n",
      " -0.94045249 -0.88735788 -0.83426326 -0.78116865 -0.72807403 -0.67497942\n",
      " -0.6218848  -0.56879019 -0.51569557 -0.46260096 -0.40950634 -0.35641173\n",
      " -0.30331711 -0.25022249 -0.19712788 -0.14403326 -0.09093865 -0.03784403\n",
      "  0.01525058  0.0683452   0.12143981  0.17453443  0.22762904  0.28072366\n",
      "  0.33381827  0.38691289  0.4400075   0.49310212  0.54619673  0.59929135\n",
      "  0.65238596  0.70548058  0.75857519  0.81166981  0.86476442  0.91785904\n",
      "  0.97095365  1.02404827  1.07714288  1.1302375   1.18333211  1.23642673\n",
      "  1.28952134  1.34261596  1.39571057  1.44880519  1.5018998   1.55499442\n",
      "  1.60808904  1.66118365  1.71427827  1.76737288  1.8204675   1.87356211\n",
      "  1.92665673  1.97975134  2.03284596  2.08594057  2.13903519  2.1921298\n",
      "  2.24522442  2.29831903  2.35141365  2.40450826]\n",
      "---------------------------------------\n",
      "hθ(x) : \n",
      "  [[-1.10868761e-16  8.78503652e-01 -4.69166570e-02]]\n",
      "---------------------------------------\n",
      "f : \n",
      "  [-1.26980915 -1.22932065 -1.18883216 -1.14834366 -1.10785516 -1.06736666\n",
      " -1.02687816 -0.98638966 -0.94590116 -0.90541266 -0.86492416 -0.82443566\n",
      " -0.78394717 -0.74345867 -0.70297017 -0.66248167 -0.62199317 -0.58150467\n",
      " -0.54101617 -0.50052767 -0.46003917 -0.41955067 -0.37906217 -0.33857368\n",
      " -0.29808518 -0.25759668 -0.21710818 -0.17661968 -0.13613118 -0.09564268\n",
      " -0.05515418 -0.01466568  0.02582282  0.06631131  0.10679981  0.14728831\n",
      "  0.18777681  0.22826531  0.26875381  0.30924231  0.34973081  0.39021931\n",
      "  0.43070781  0.47119631  0.5116848   0.5521733   0.5926618   0.6331503\n",
      "  0.6736388   0.7141273   0.7546158   0.7951043   0.8355928   0.8760813\n",
      "  0.91656979  0.95705829  0.99754679  1.03803529  1.07852379  1.11901229\n",
      "  1.15950079  1.19998929  1.24047779  1.28096629  1.32145479  1.36194328\n",
      "  1.40243178  1.44292028  1.48340878  1.52389728  1.56438578  1.60487428\n",
      "  1.64536278  1.68585128  1.72633978  1.76682828  1.80731677  1.84780527\n",
      "  1.88829377  1.92878227  1.96927077  2.00975927  2.05024777  2.09073627\n",
      "  2.13122477  2.17171327  2.21220176  2.25269026  2.29317876  2.33366726\n",
      "  2.37415576  2.41464426  2.45513276  2.49562126  2.53610976  2.57659826\n",
      "  2.61708676  2.65757525  2.69806375  2.73855225]\n"
     ]
    }
   ],
   "source": [
    "# sperate values between min and max to 100 part.\n",
    "x1 = np.linspace(df.Bedrooms.min(), df.Bedrooms.max(), 100)\n",
    "# print the 100 values between min and max.\n",
    "print('x : \\n ',x1)\n",
    "print('---------------------------------------')\n",
    "print('hθ(x) : \\n ',hθ_x)\n",
    "print('---------------------------------------')\n",
    "# apply this formula hθ(x) = θ0 + θ1x.\n",
    "f1 = hθ_x[0, 0] + (hθ_x[0, 1] * x)\n",
    "print('f : \\n ',f)"
   ]
  },
  {
   "attachments": {},
   "cell_type": "markdown",
   "id": "ad5112b0",
   "metadata": {},
   "source": [
    "# draw the line for Bedrooms vs. Price"
   ]
  },
  {
   "cell_type": "code",
   "execution_count": 35,
   "id": "8bcdd124",
   "metadata": {},
   "outputs": [
    {
     "data": {
      "image/png": "[encoded data removed]",
      "text/plain": [
       "<Figure size 500x500 with 1 Axes>"
      ]
     },
     "metadata": {},
     "output_type": "display_data"
    }
   ],
   "source": [
    "# make subplots to draw more plots in one graph.\n",
    "fig, ax = plt.subplots(figsize=(5,5))\n",
    "# draw the linear regression line.\n",
    "ax.plot(x1, f1, 'r', label='Prediction')\n",
    "# draw the distribution of data.\n",
    "ax.scatter(df.Size, df.Price, label='Training Data')\n",
    "# plot hint of all graphs types in the upper left side\n",
    "ax.legend(loc=2)\n",
    "# set name of x axis to Bedrooms.\n",
    "ax.set_xlabel('Bedrooms')\n",
    "# set name of y axis to Price.\n",
    "ax.set_ylabel('Price')\n",
    "# set the title of graph to be Predicted Bedrooms vs. Price.\n",
    "ax.set_title('Bedrooms vs. Price')\n",
    "# show graph on screen.\n",
    "plt.show()"
   ]
  },
  {
   "attachments": {},
   "cell_type": "markdown",
   "id": "1a5772c1",
   "metadata": {},
   "source": [
    "# draw error graph"
   ]
  },
  {
   "cell_type": "code",
   "execution_count": 36,
   "id": "573077f1",
   "metadata": {},
   "outputs": [
    {
     "data": {
      "image/png": "[encoded data removed]",
      "text/plain": [
       "<Figure size 500x500 with 1 Axes>"
      ]
     },
     "metadata": {},
     "output_type": "display_data"
    }
   ],
   "source": [
    "# make subplots to draw more plots in one graph.\n",
    "fig, ax = plt.subplots(figsize=(5,5))\n",
    "# draw error rate\n",
    "ax.plot(np.arange(iters), cost, 'r')\n",
    "# set name of x axis to Iterations.\n",
    "ax.set_xlabel('Iterations')\n",
    "# set name of y axis to Cost.\n",
    "ax.set_ylabel('Cost')\n",
    "# set the title of graph to be Error vs. Training Epoch.\n",
    "ax.set_title('Error vs. Training Epoch')\n",
    "plt.show()"
   ]
  }
 ],
 "metadata": {
  "kernelspec": {
   "display_name": "Python 3 (ipykernel)",
   "language": "python",
   "name": "python3"
  },
  "language_info": {
   "codemirror_mode": {
    "name": "ipython",
    "version": 3
   },
   "file_extension": ".py",
   "mimetype": "text/x-python",
   "name": "python",
   "nbconvert_exporter": "python",
   "pygments_lexer": "ipython3",
   "version": "3.9.12"
  }
 },
 "nbformat": 4,
 "nbformat_minor": 5
}
