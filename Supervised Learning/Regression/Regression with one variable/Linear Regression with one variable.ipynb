{
 "cells": [
  {
   "attachments": {},
   "cell_type": "markdown",
   "id": "b3c900d6",
   "metadata": {},
   "source": [
    "## Important formuals :"
   ]
  },
  {
   "attachments": {},
   "cell_type": "markdown",
   "id": "b52a04d5",
   "metadata": {},
   "source": [
    "### - regression algorithm ---> Y = bx +  α\n",
    "\n",
    "### - hypothesis ---> hθ(x) = θ0 + θ1x\n",
    "\n",
    "### - cost function ---> J(θ0,θ1) = J(θ0 + θ1) = 1/2m m∑n=1(hθ(xi)-yi)^2\n",
    "\n",
    "### - gradient descent :\n",
    "\n",
    "### θ0 := θ0 - α 1/m m∑n=1(hθ(xi)-yi)x0\n",
    "\n",
    "### θ1 := θ1 - α 1/m m∑n=1(hθ(xi)-yi)xi\n",
    "\n",
    "### - data rescaling ---> x = [(x - mean)/range] \n",
    "#### mean = (sum of values / num of them) , range = (max - min)\n",
    "\n",
    "### - normal equation ---> θ = (XT * X)^-1 * (XT) * (y)"
   ]
  },
  {
   "attachments": {},
   "cell_type": "markdown",
   "id": "354096ea",
   "metadata": {},
   "source": [
    "# import libraries :"
   ]
  },
  {
   "cell_type": "code",
   "execution_count": 22,
   "id": "4938561d",
   "metadata": {},
   "outputs": [],
   "source": [
    "# use numpy to perform a mathematical operations on arrays.\n",
    "import numpy as np\n",
    "# use pandas to deal with dataset.\n",
    "import pandas as pd\n",
    "# use matplotlib to create static, animated, and interactive visualizations.\n",
    "import matplotlib.pyplot as plt"
   ]
  },
  {
   "cell_type": "markdown",
   "id": "77b8578d",
   "metadata": {},
   "source": [
    "## read data :"
   ]
  },
  {
   "cell_type": "code",
   "execution_count": 23,
   "id": "373da521",
   "metadata": {},
   "outputs": [],
   "source": [
    "# specify the specific location of dataset.\n",
    "path = 'E:\\\\Mostafa\\\\Study Materials\\\\Machin Learning Courses\\\\Hesham Asem Courses\\\\Practice\\\\Supervised Learning\\\\Regression\\\\Regression with one variable\\\\data.xlsx'\n",
    "# read data from file in the specific location and add no headers.\n",
    "# add names for columns Population for first column and Profit for the second column.\n",
    "df = pd.read_excel(path, header=None, names=['Population', 'Profit'])"
   ]
  },
  {
   "cell_type": "markdown",
   "id": "34a3e5bd",
   "metadata": {},
   "source": [
    "## show data details :\n"
   ]
  },
  {
   "cell_type": "code",
   "execution_count": 24,
   "id": "700a24ee",
   "metadata": {},
   "outputs": [
    {
     "name": "stdout",
     "output_type": "stream",
     "text": [
      "data : \n",
      "    Population   Profit\n",
      "0      6.1101  17.5920\n",
      "1      5.5277   9.1302\n",
      "2      8.5186  13.6620\n",
      "3      7.0032  11.8540\n",
      "4      5.8598   6.8233\n",
      "5      8.3829  11.8860\n",
      "6      7.4764   4.3483\n",
      "7      8.5781  12.0000\n",
      "8      6.4862   6.5987\n",
      "9      5.0546   3.8166\n",
      "---------------------------------------\n",
      "describtion of data : \n",
      "        Population     Profit\n",
      "count   97.000000  97.000000\n",
      "mean     8.159800   5.839135\n",
      "std      3.869884   5.510262\n",
      "min      5.026900  -2.680700\n",
      "25%      5.707700   1.986900\n",
      "50%      6.589400   4.562300\n",
      "75%      8.578100   7.046700\n",
      "max     22.203000  24.147000\n",
      "---------------------------------------\n"
     ]
    }
   ],
   "source": [
    "# print first 10 row of data.\n",
    "print('data : \\n' ,df.head(10) )\n",
    "print('---------------------------------------')\n",
    "# use describe method to see all important information about data like mean , std , min , etc.\n",
    "print('describtion of data : \\n',df.describe())\n",
    "print('---------------------------------------')"
   ]
  },
  {
   "cell_type": "markdown",
   "id": "aa3bad9a",
   "metadata": {},
   "source": [
    "## draw data :\n"
   ]
  },
  {
   "cell_type": "code",
   "execution_count": 25,
   "id": "7fc00011",
   "metadata": {},
   "outputs": [
    {
     "data": {
      "image/png": "[encoded data removed]",
      "text/plain": [
       "<Figure size 500x500 with 1 Axes>"
      ]
     },
     "metadata": {},
     "output_type": "display_data"
    }
   ],
   "source": [
    "# draw data to see the distribution of it.\n",
    "df.plot(kind='scatter', x='Population', y='Profit', figsize=(5,5))\n",
    "plt.show()"
   ]
  },
  {
   "attachments": {},
   "cell_type": "markdown",
   "id": "93ab5812",
   "metadata": {},
   "source": [
    "# adding a new column called ones before the data \n",
    "## \" this makes matrix multiplication work out easier \""
   ]
  },
  {
   "cell_type": "code",
   "execution_count": 26,
   "id": "5b5a7e4b",
   "metadata": {},
   "outputs": [
    {
     "name": "stdout",
     "output_type": "stream",
     "text": [
      "Data after adding column \"Ones\" : \n",
      "    Ones  Population   Profit\n",
      "0     1      6.1101  17.5920\n",
      "1     1      5.5277   9.1302\n",
      "2     1      8.5186  13.6620\n",
      "3     1      7.0032  11.8540\n",
      "4     1      5.8598   6.8233\n",
      "5     1      8.3829  11.8860\n",
      "6     1      7.4764   4.3483\n",
      "7     1      8.5781  12.0000\n",
      "8     1      6.4862   6.5987\n",
      "9     1      5.0546   3.8166\n"
     ]
    }
   ],
   "source": [
    "# add new column to represent X0 with value 1 for all rows.\n",
    "df.insert(0, 'Ones', 1)\n",
    "# print first 10 row of new data.\n",
    "print('Data after adding column \"Ones\" : \\n' ,df.head(10) )"
   ]
  },
  {
   "cell_type": "markdown",
   "id": "b6d82413",
   "metadata": {},
   "source": [
    "# separate X (training data) from y (target variable) :"
   ]
  },
  {
   "cell_type": "code",
   "execution_count": 27,
   "id": "a52cc514",
   "metadata": {},
   "outputs": [
    {
     "name": "stdout",
     "output_type": "stream",
     "text": [
      "X data : \n",
      "    Ones  Population\n",
      "0     1      6.1101\n",
      "1     1      5.5277\n",
      "2     1      8.5186\n",
      "3     1      7.0032\n",
      "4     1      5.8598\n",
      "5     1      8.3829\n",
      "6     1      7.4764\n",
      "7     1      8.5781\n",
      "8     1      6.4862\n",
      "9     1      5.0546\n",
      "---------------------------------------\n",
      "y data : \n",
      "     Profit\n",
      "0  17.5920\n",
      "1   9.1302\n",
      "2  13.6620\n",
      "3  11.8540\n",
      "4   6.8233\n",
      "5  11.8860\n",
      "6   4.3483\n",
      "7  12.0000\n",
      "8   6.5987\n",
      "9   3.8166\n"
     ]
    }
   ],
   "source": [
    "# shape method return 'number of rows' X 'number of columns' ---> (97,3).\n",
    "# we use data.shape[1] to select only columns ---> (3) ---> ['Ones','Population','Profit'].\n",
    "cols = df.shape[1]\n",
    "# X represent taining data that will used in training to predict new targets.\n",
    "# use ( : , ) to select all rows of data.\n",
    "# use ( , 0 : cols-1) to select columns from first to penultimate one ---> [Ones : Population]. \n",
    "X = df.iloc[ : , 0 : cols-1 ]\n",
    "# y represnt target variable that produced based on training data.\n",
    "# use ( : , ) to select all rows of data.\n",
    "# use ( , cols-1 : cols) to select last column only ---> ['Profit'].\n",
    "y = df.iloc[ : , cols-1 : cols ]\n",
    "# print first 10 row of X values.\n",
    "print('X data : \\n' ,X.head(10) )\n",
    "print('---------------------------------------')\n",
    "# print first 10 row of y values.\n",
    "print('y data : \\n' ,y.head(10) )"
   ]
  },
  {
   "attachments": {},
   "cell_type": "markdown",
   "id": "cd8e7f64",
   "metadata": {},
   "source": [
    "# convert from data frames to numpy matrices and initialize theta"
   ]
  },
  {
   "cell_type": "code",
   "execution_count": 28,
   "id": "8fcea7d6",
   "metadata": {},
   "outputs": [
    {
     "name": "stdout",
     "output_type": "stream",
     "text": [
      "first 10 values of X : \n",
      " [[1.     6.1101]\n",
      " [1.     5.5277]\n",
      " [1.     8.5186]\n",
      " [1.     7.0032]\n",
      " [1.     5.8598]\n",
      " [1.     8.3829]\n",
      " [1.     7.4764]\n",
      " [1.     8.5781]\n",
      " [1.     6.4862]\n",
      " [1.     5.0546]]\n",
      "---------------------------------------\n",
      "theta :\n",
      " [[0 0]]\n",
      "---------------------------------------\n",
      "first 10 values of y : \n",
      " [[17.592 ]\n",
      " [ 9.1302]\n",
      " [13.662 ]\n",
      " [11.854 ]\n",
      " [ 6.8233]\n",
      " [11.886 ]\n",
      " [ 4.3483]\n",
      " [12.    ]\n",
      " [ 6.5987]\n",
      " [ 3.8166]]\n"
     ]
    }
   ],
   "source": [
    "# convert X to matrix with shape (97,2) to be prepared to work with it.\n",
    "X = np.matrix(X.values)\n",
    "# convert y to matrix with shape (97,1) to be prepared to work with it.\n",
    "y = np.matrix(y.values)\n",
    "# craete new matrix with shape (1,2) called theta with only 2 values.\n",
    "# because we have only 2 variables so theta represented by 2 columns.\n",
    "theta = np.matrix(np.array([0,0]))\n",
    "# print first 10 values of 'X' matrix.\n",
    "print('first 10 values of X : \\n',X[0:10])\n",
    "print('---------------------------------------')\n",
    "# print values of 'theta' matrix.\n",
    "print('theta :\\n',theta)\n",
    "print('---------------------------------------')\n",
    "# print first 10 values of 'y' matrix.\n",
    "print('first 10 values of y : \\n',y[0:10])"
   ]
  },
  {
   "cell_type": "markdown",
   "id": "1184a514",
   "metadata": {},
   "source": [
    "# Cost function :"
   ]
  },
  {
   "cell_type": "code",
   "execution_count": 29,
   "id": "d386f3c8",
   "metadata": {},
   "outputs": [
    {
     "name": "stdout",
     "output_type": "stream",
     "text": [
      "Cost-Function =  32.072733877455676\n"
     ]
    }
   ],
   "source": [
    "# use this formula to calculate cost-function.\n",
    "# hθ(x) = θ0 + θ1x.\n",
    "# J(θ0 + θ1) = 1/2m m∑n=1(hθ(xi)-yi)^2.\n",
    "# use theta.T to calculate hθ(x).\n",
    "# to multiply 2 matrix it's dimansions must be under this formula A'col' = B'row'.\n",
    "# so number of columns of 'X' must equal to number of rows of 'theta'.\n",
    "# so we must transpose 'theta' to fit the multiplication with 'X'.\n",
    "# x = (97,2) , theta.T = (2,1).\n",
    "# new matrix shape will equal (97,1).\n",
    "def cost_function(X, y, theta):\n",
    "    # apply summation part of formula ---> m∑n=1(hθ(xi)-yi)^2.\n",
    "    z = np.power(((X * theta.T) - y), 2)\n",
    "    # calculate number of all data points in this dataset.\n",
    "    m = len(X)\n",
    "    # apply the other part of formula division by 2m which refer to the number of all data points.\n",
    "    return np.sum(z) / (2 * m)\n",
    "# print the value of cost function.\n",
    "print('Cost-Function = ' , cost_function(X, y, theta))"
   ]
  },
  {
   "cell_type": "markdown",
   "id": "0e6f35fc",
   "metadata": {},
   "source": [
    "## Gradient Descent function :"
   ]
  },
  {
   "cell_type": "code",
   "execution_count": 30,
   "id": "995d05c6",
   "metadata": {},
   "outputs": [],
   "source": [
    "# use this formula to calculate gradient descent \n",
    "# θ0 := θ0 - α 1/m m∑n=1(hθ(xi)-yi)\n",
    "# θ1 := θ1 - α 1/m m∑n=1((hθ(xi)-yi)xi)\n",
    "def gradientDescent(X, y, theta, alpha, iters):\n",
    "    # create a numpy array and convet it to matrix based on theta shape ---> (1,2) ---> [0. 0.].\n",
    "    # the new value will be a matrix ---> [[0. 0.]].\n",
    "    temp = np.matrix(np.zeros(theta.shape))\n",
    "    # get number of parameters by convert number of columns in theta to integar.\n",
    "    # calculate and assign number of parameters 'columns' in the theta array to 'parameters' variable.\n",
    "    parameters = int(theta.ravel().shape[1])\n",
    "    # create numpy array of zeros based on number of iterations.\n",
    "    # it will represent array of 1000 zero \n",
    "    cost = np.zeros(iters)\n",
    "    for i in range(iters):\n",
    "        # calculate error by apply this part of formula m∑n=1(hθ(x^i)-y^i).\n",
    "        error = (X * theta.T) - y\n",
    "        for j in range(parameters):\n",
    "            # apply the other part of formula by multiply by 'xi'\n",
    "            term = np.multiply(error, X[:,j])\n",
    "            # apply complete formula θ(0,1) - α 1/m m∑n=1((hθ(xi)-yi)xi)\n",
    "            # temp[0,j] refer to new theta --->  θ(0,1) :=  θ(0,1) - α 1/m m∑n=1(hθ(xi)-yi \n",
    "            temp[0,j] = theta[0,j] - ((alpha / len(X)) * np.sum(term))\n",
    "            # assign value of temp to theta to save new values of theta\n",
    "            theta = temp\n",
    "            # assign values of cost to cost function\n",
    "            cost[i] = cost_function(X, y, theta)\n",
    "    return theta, cost"
   ]
  },
  {
   "cell_type": "markdown",
   "id": "38608381",
   "metadata": {},
   "source": [
    "## initialize variables for learning rate and iterations :"
   ]
  },
  {
   "cell_type": "code",
   "execution_count": 31,
   "id": "6502a2e5",
   "metadata": {},
   "outputs": [],
   "source": [
    "# learning rate.\n",
    "# when it being small that means it will be slow but more accurated.\n",
    "# when it being large that means it will be fast but less accurated.\n",
    "alpha = 0.01\n",
    "# number of iterations.\n",
    "# when this number being large this mean that will be low cost.\n",
    "# when this number being small this mean that will be high cost.\n",
    "iters = 1000"
   ]
  },
  {
   "cell_type": "markdown",
   "id": "d0ff1153",
   "metadata": {},
   "source": [
    "## perform gradient descent to \"fit\" the model parameters :"
   ]
  },
  {
   "cell_type": "code",
   "execution_count": 32,
   "id": "8fae2a0d",
   "metadata": {},
   "outputs": [
    {
     "name": "stdout",
     "output_type": "stream",
     "text": [
      "hθ(x) =  [[-3.24140214  1.1272942 ]]\n",
      "---------------------------------------\n",
      "cost : \n",
      " [6.73719046 5.93159357 5.90115471 5.89522859 5.89009494 5.88500416\n",
      " 5.87993248 5.87487909 5.86984391 5.86482687 5.85982789 5.85484692\n",
      " 5.84988389 5.84493874 5.8400114  5.83510181 5.8302099  5.82533562\n",
      " 5.82047889 5.81563965 5.81081784 5.8060134  5.80122627 5.79645638\n",
      " 5.79170367 5.78696808 5.78224955 5.77754801 5.77286341 5.76819568\n",
      " 5.76354477 5.75891061 5.75429313 5.7496923  5.74510803 5.74054027\n",
      " 5.73598897 5.73145406 5.72693549 5.72243319 5.71794711 5.71347718\n",
      " 5.70902336 5.70458558 5.70016379 5.69575792 5.69136792 5.68699373\n",
      " 5.6826353  5.67829257]\n",
      "---------------------------------------\n",
      "cost_function =  4.515955503078914\n"
     ]
    }
   ],
   "source": [
    "# get values of hθ_(x) and theta from gradientDescent() method. \n",
    "hθ_x, cost = gradientDescent(X, y, theta, alpha, iters)\n",
    "# print values of hθ_(x) ---> values of (θ0 , θ1).\n",
    "print('hθ(x) = ' , hθ_x)\n",
    "print('---------------------------------------')\n",
    "# print cost of first 50 values.\n",
    "print('cost : \\n' , cost[0:50])\n",
    "print('---------------------------------------')\n",
    "# print the value of cost function\n",
    "print('cost_function = ' , cost_function(X, y, hθ_x))"
   ]
  },
  {
   "cell_type": "markdown",
   "id": "6de383b6",
   "metadata": {},
   "source": [
    "## get best fit line :"
   ]
  },
  {
   "cell_type": "code",
   "execution_count": 33,
   "id": "060d0be2",
   "metadata": {},
   "outputs": [
    {
     "name": "stdout",
     "output_type": "stream",
     "text": [
      "x : \n",
      "  [ 5.0269      5.20039596  5.37389192  5.54738788  5.72088384  5.8943798\n",
      "  6.06787576  6.24137172  6.41486768  6.58836364  6.7618596   6.93535556\n",
      "  7.10885152  7.28234747  7.45584343  7.62933939  7.80283535  7.97633131\n",
      "  8.14982727  8.32332323  8.49681919  8.67031515  8.84381111  9.01730707\n",
      "  9.19080303  9.36429899  9.53779495  9.71129091  9.88478687 10.05828283\n",
      " 10.23177879 10.40527475 10.57877071 10.75226667 10.92576263 11.09925859\n",
      " 11.27275455 11.44625051 11.61974646 11.79324242 11.96673838 12.14023434\n",
      " 12.3137303  12.48722626 12.66072222 12.83421818 13.00771414 13.1812101\n",
      " 13.35470606 13.52820202 13.70169798 13.87519394 14.0486899  14.22218586\n",
      " 14.39568182 14.56917778 14.74267374 14.9161697  15.08966566 15.26316162\n",
      " 15.43665758 15.61015354 15.78364949 15.95714545 16.13064141 16.30413737\n",
      " 16.47763333 16.65112929 16.82462525 16.99812121 17.17161717 17.34511313\n",
      " 17.51860909 17.69210505 17.86560101 18.03909697 18.21259293 18.38608889\n",
      " 18.55958485 18.73308081 18.90657677 19.08007273 19.25356869 19.42706465\n",
      " 19.60056061 19.77405657 19.94755253 20.12104848 20.29454444 20.4680404\n",
      " 20.64153636 20.81503232 20.98852828 21.16202424 21.3355202  21.50901616\n",
      " 21.68251212 21.85600808 22.02950404 22.203     ]\n",
      "---------------------------------------\n",
      "hθ(x) : \n",
      "  [[-3.24140214  1.1272942 ]]\n",
      "---------------------------------------\n",
      "f : \n",
      "  [ 2.42539308  2.62097407  2.81655506  3.01213605  3.20771704  3.40329803\n",
      "  3.59887902  3.79446001  3.990041    4.18562199  4.38120298  4.57678397\n",
      "  4.77236495  4.96794594  5.16352693  5.35910792  5.55468891  5.7502699\n",
      "  5.94585089  6.14143188  6.33701287  6.53259386  6.72817485  6.92375584\n",
      "  7.11933683  7.31491782  7.51049881  7.7060798   7.90166079  8.09724177\n",
      "  8.29282276  8.48840375  8.68398474  8.87956573  9.07514672  9.27072771\n",
      "  9.4663087   9.66188969  9.85747068 10.05305167 10.24863266 10.44421365\n",
      " 10.63979464 10.83537563 11.03095662 11.2265376  11.42211859 11.61769958\n",
      " 11.81328057 12.00886156 12.20444255 12.40002354 12.59560453 12.79118552\n",
      " 12.98676651 13.1823475  13.37792849 13.57350948 13.76909047 13.96467146\n",
      " 14.16025245 14.35583344 14.55141442 14.74699541 14.9425764  15.13815739\n",
      " 15.33373838 15.52931937 15.72490036 15.92048135 16.11606234 16.31164333\n",
      " 16.50722432 16.70280531 16.8983863  17.09396729 17.28954828 17.48512927\n",
      " 17.68071025 17.87629124 18.07187223 18.26745322 18.46303421 18.6586152\n",
      " 18.85419619 19.04977718 19.24535817 19.44093916 19.63652015 19.83210114\n",
      " 20.02768213 20.22326312 20.41884411 20.6144251  20.81000609 21.00558707\n",
      " 21.20116806 21.39674905 21.59233004 21.78791103]\n"
     ]
    }
   ],
   "source": [
    "# sperate values between min and max to 100 part.\n",
    "x = np.linspace(df.Population.min(), df.Population.max(), 100)\n",
    "# print the 100 values between min and max.\n",
    "print('x : \\n ',x)\n",
    "print('---------------------------------------')\n",
    "print('hθ(x) : \\n ',hθ_x)\n",
    "print('---------------------------------------')\n",
    "# apply this formula hθ(x) = θ0 + θ1x.\n",
    "f = hθ_x[0, 0] + (hθ_x[0, 1] * x)\n",
    "print('f : \\n ',f)"
   ]
  },
  {
   "attachments": {},
   "cell_type": "markdown",
   "id": "a24b0287",
   "metadata": {},
   "source": [
    "## draw best fit line :"
   ]
  },
  {
   "cell_type": "code",
   "execution_count": 34,
   "id": "6fb6be63",
   "metadata": {},
   "outputs": [
    {
     "data": {
      "image/png": "[encoded data removed]",
      "text/plain": [
       "<Figure size 500x500 with 1 Axes>"
      ]
     },
     "metadata": {},
     "output_type": "display_data"
    }
   ],
   "source": [
    "# make subplots to draw more plots in one graph.\n",
    "fig, ax = plt.subplots(figsize=(5,5))\n",
    "# draw the linear regression line. \n",
    "ax.plot(x, f, 'r', label='Prediction' , linestyle=':')\n",
    "# draw the distribution of data. \n",
    "ax.scatter(df.Population, df.Profit, label='Traning Data')\n",
    "# plot hint of all graphs types in the upper left side.\n",
    "ax.legend(loc=2)\n",
    "# set name of x axis to Population.\n",
    "ax.set_xlabel('Population')\n",
    "# set name of y axis to Profit.\n",
    "ax.set_ylabel('Profit')\n",
    "# set the title of graph to be Predicted Profit vs. Population Size.\n",
    "ax.set_title('Predicted Profit vs. Population Size')\n",
    "# show graph on screen.\n",
    "plt.show()"
   ]
  },
  {
   "cell_type": "markdown",
   "id": "2aba8d26",
   "metadata": {},
   "source": [
    "## draw error graph :"
   ]
  },
  {
   "cell_type": "code",
   "execution_count": 35,
   "id": "94562680",
   "metadata": {},
   "outputs": [
    {
     "data": {
      "image/png": "[encoded data removed]",
      "text/plain": [
       "<Figure size 500x500 with 1 Axes>"
      ]
     },
     "metadata": {},
     "output_type": "display_data"
    }
   ],
   "source": [
    "# make subplots to draw more plots in one graph.\n",
    "fig, ax = plt.subplots(figsize=(5,5))\n",
    "# draw error rate\n",
    "ax.plot(np.arange(iters), cost, 'r')\n",
    "# set name of x axis to Iterations.\n",
    "ax.set_xlabel('Iterations')\n",
    "# set name of y axis to Cost.\n",
    "ax.set_ylabel('Cost')\n",
    "# set the title of graph to be Error vs. Training Epoch.\n",
    "ax.set_title('Error vs. Training Epoch')\n",
    "plt.show()"
   ]
  },
  {
   "cell_type": "code",
   "execution_count": null,
   "id": "c4849ccd",
   "metadata": {},
   "outputs": [],
   "source": []
  }
 ],
 "metadata": {
  "kernelspec": {
   "display_name": "Python 3 (ipykernel)",
   "language": "python",
   "name": "python3"
  },
  "language_info": {
   "codemirror_mode": {
    "name": "ipython",
    "version": 3
   },
   "file_extension": ".py",
   "mimetype": "text/x-python",
   "name": "python",
   "nbconvert_exporter": "python",
   "pygments_lexer": "ipython3",
   "version": "3.9.12"
  }
 },
 "nbformat": 4,
 "nbformat_minor": 5
}
